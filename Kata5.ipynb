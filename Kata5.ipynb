{
 "cells": [
  {
   "cell_type": "markdown",
   "metadata": {},
   "source": [
    "Ejercicio 1:"
   ]
  },
  {
   "cell_type": "code",
   "execution_count": 1,
   "metadata": {},
   "outputs": [],
   "source": [
    "dtierra= 149597870 #km\n",
    "djupiter = 778547200 #km"
   ]
  },
  {
   "cell_type": "code",
   "execution_count": 8,
   "metadata": {},
   "outputs": [
    {
     "name": "stdout",
     "output_type": "stream",
     "text": [
      "628949330 kilometros\n",
      "390577533.93 millas\n"
     ]
    }
   ],
   "source": [
    "distancia= djupiter-  dtierra #km\n",
    "print(distancia,'kilometros')\n",
    "\n",
    "dmillas = distancia * 0.621 #millas\n",
    "\n",
    "print(dmillas,'millas')"
   ]
  },
  {
   "cell_type": "markdown",
   "metadata": {},
   "source": [
    "Ejercicio 2:"
   ]
  },
  {
   "cell_type": "code",
   "execution_count": 19,
   "metadata": {},
   "outputs": [],
   "source": [
    "planeta1 = input(\"Escribe la distancia del sol al primer planeta\")\n",
    "planeta2 = input(\"Escribe la distancia del sol al segundo planeta\")\n"
   ]
  },
  {
   "cell_type": "code",
   "execution_count": 20,
   "metadata": {},
   "outputs": [
    {
     "name": "stdout",
     "output_type": "stream",
     "text": [
      "2872500000\n",
      "57900000\n"
     ]
    }
   ],
   "source": [
    "p1_int = int(planeta1)\n",
    "p2_int = int(planeta2)\n",
    "\n",
    "print(p1_int)\n",
    "print(p2_int)\n"
   ]
  },
  {
   "cell_type": "code",
   "execution_count": 23,
   "metadata": {},
   "outputs": [
    {
     "name": "stdout",
     "output_type": "stream",
     "text": [
      "2814600000 kilometros\n",
      "1747866600.0 millas\n"
     ]
    }
   ],
   "source": [
    "#diferencia entre planetas\n",
    "dif= p2_int - p1_int \n",
    "\n",
    "print(abs(dif),'kilometros')\n",
    "\n",
    "#conversion a millas\n",
    "dif_mi= dif * 0.621\n",
    "\n",
    "print(abs(dif_mi),'millas')\n"
   ]
  },
  {
   "cell_type": "code",
   "execution_count": null,
   "metadata": {},
   "outputs": [],
   "source": []
  }
 ],
 "metadata": {
  "interpreter": {
   "hash": "5a20c200b8e26a15f1a42cd9aa62785e4f26d506ca7c80a8de37aebc453c3a34"
  },
  "kernelspec": {
   "display_name": "Python 3.10.2 64-bit",
   "language": "python",
   "name": "python3"
  },
  "language_info": {
   "codemirror_mode": {
    "name": "ipython",
    "version": 3
   },
   "file_extension": ".py",
   "mimetype": "text/x-python",
   "name": "python",
   "nbconvert_exporter": "python",
   "pygments_lexer": "ipython3",
   "version": "3.10.2"
  },
  "orig_nbformat": 4
 },
 "nbformat": 4,
 "nbformat_minor": 2
}
