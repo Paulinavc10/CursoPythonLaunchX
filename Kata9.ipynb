{
 "cells": [
  {
   "cell_type": "markdown",
   "metadata": {},
   "source": [
    "Ejercicio 1:"
   ]
  },
  {
   "cell_type": "code",
   "execution_count": 7,
   "metadata": {},
   "outputs": [
    {
     "name": "stdout",
     "output_type": "stream",
     "text": [
      "Informe de Combustible\n",
      "            Tanque 1 = 95\n",
      "            Tanque 2 = 75\n",
      "            Tanque 3 = 35\n",
      "            Promedio = 68.33333333333333\n",
      "            \n"
     ]
    }
   ],
   "source": [
    "def combustible(tanque1, tanque2, tanque3): \n",
    "    promedio= (tanque1 + tanque2 +tanque3)/3\n",
    "    \n",
    "    return f\"\"\"Informe de Combustible\n",
    "            Tanque 1 = {tanque1}\n",
    "            Tanque 2 = {tanque2}\n",
    "            Tanque 3 = {tanque3}\n",
    "            Promedio = {promedio}\n",
    "            \"\"\"\n",
    "    \n",
    "print(combustible(95,75,35))"
   ]
  },
  {
   "cell_type": "code",
   "execution_count": 27,
   "metadata": {},
   "outputs": [
    {
     "data": {
      "text/plain": [
       "68.33333333333333"
      ]
     },
     "execution_count": 27,
     "metadata": {},
     "output_type": "execute_result"
    }
   ],
   "source": [
    "def promedio1(tanques):\n",
    "    suma_comb= sum(tanques)\n",
    "    total= len(tanques)\n",
    "\n",
    "    return suma_comb / total\n",
    "\n",
    "promedio1([95,75,35])\n"
   ]
  },
  {
   "cell_type": "code",
   "execution_count": 26,
   "metadata": {},
   "outputs": [
    {
     "name": "stdout",
     "output_type": "stream",
     "text": [
      "Informe de Combustible\n",
      "            Tanque 1 = 95\n",
      "            Tanque 2 = 75\n",
      "            Tanque 3 = 35\n",
      "            Promedio = 68.33333333333333\n",
      "            \n"
     ]
    }
   ],
   "source": [
    "def combustible(tanque1, tanque2, tanque3): \n",
    "    \n",
    "    return f\"\"\"Informe de Combustible\n",
    "            Tanque 1 = {tanque1}\n",
    "            Tanque 2 = {tanque2}\n",
    "            Tanque 3 = {tanque3}\n",
    "            Promedio = {promedio1([tanque1,tanque2,tanque3])}\n",
    "            \"\"\"\n",
    "    \n",
    "print(combustible(95,75,35))"
   ]
  },
  {
   "cell_type": "markdown",
   "metadata": {},
   "source": [
    "Ejercicio 2:"
   ]
  },
  {
   "cell_type": "code",
   "execution_count": 29,
   "metadata": {},
   "outputs": [
    {
     "name": "stdout",
     "output_type": "stream",
     "text": [
      " \n",
      "    Destino: Marte\n",
      "    Tiempo de vuelo: 95 minutos\n",
      "    Combustible a la izquierda: 3000 litros\n",
      "    \n"
     ]
    }
   ],
   "source": [
    "def informe(hora,tiempo, destino,tanque1, tanque2):\n",
    "\n",
    "   return f\"\"\" \n",
    "    Destino: {destino}\n",
    "    Tiempo de vuelo: {tiempo + hora} minutos\n",
    "    Combustible a la izquierda: {tanque1 + tanque2} litros\n",
    "    \"\"\"\n",
    "print(informe(20,75,'Marte',1000,2000))"
   ]
  },
  {
   "cell_type": "code",
   "execution_count": 40,
   "metadata": {},
   "outputs": [
    {
     "name": "stdout",
     "output_type": "stream",
     "text": [
      "\n",
      "    Destino: Marte\n",
      "    Tiempo de vuelo: 105 minutos\n",
      "    Combustible a la izquierda: 3000\n",
      "    \n"
     ]
    }
   ],
   "source": [
    "def informe(destino, *minutes, **fuel_reservoirs):\n",
    "\n",
    "    return f\"\"\"\n",
    "    Destino: {destino}\n",
    "    Tiempo de vuelo: {sum(minutes)} minutos\n",
    "    Combustible a la izquierda: {sum(fuel_reservoirs.values())}\n",
    "    \"\"\"\n",
    "\n",
    "print(informe('Marte', 20, 75, tanque1=1000, tanque2=2000))"
   ]
  },
  {
   "cell_type": "code",
   "execution_count": 57,
   "metadata": {},
   "outputs": [
    {
     "name": "stdout",
     "output_type": "stream",
     "text": [
      "\n",
      "    Destino: Marte\n",
      "    Tiempo de vuelo: 95 minutos\n",
      "    Combustible a la izquierda: 3000\n",
      "    tanque_1 --> 1000 litros restantes \n",
      "tanque_2 --> 2000 litros restantes \n",
      "\n"
     ]
    }
   ],
   "source": [
    "def informe(destino, *minutes, **fuel_reservoirs):\n",
    "    reporte= f\"\"\"\n",
    "    Destino: {destino}\n",
    "    Tiempo de vuelo: {sum(minutes)} minutos\n",
    "    Combustible a la izquierda: {sum(fuel_reservoirs.values())}\n",
    "    \"\"\"\n",
    "    for tanque, combustible in fuel_reservoirs.items():\n",
    "        reporte += f\"{tanque} --> {combustible} litros restantes \\n\"\n",
    "    return reporte\n",
    "\n",
    "print(informe(\"Marte\", 20, 75, tanque_1=1000, tanque_2=2000))"
   ]
  }
 ],
 "metadata": {
  "interpreter": {
   "hash": "5a20c200b8e26a15f1a42cd9aa62785e4f26d506ca7c80a8de37aebc453c3a34"
  },
  "kernelspec": {
   "display_name": "Python 3.10.2 64-bit",
   "language": "python",
   "name": "python3"
  },
  "language_info": {
   "codemirror_mode": {
    "name": "ipython",
    "version": 3
   },
   "file_extension": ".py",
   "mimetype": "text/x-python",
   "name": "python",
   "nbconvert_exporter": "python",
   "pygments_lexer": "ipython3",
   "version": "3.10.2"
  },
  "orig_nbformat": 4
 },
 "nbformat": 4,
 "nbformat_minor": 2
}
