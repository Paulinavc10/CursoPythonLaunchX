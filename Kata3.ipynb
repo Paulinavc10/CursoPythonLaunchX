{
 "cells": [
  {
   "cell_type": "code",
   "execution_count": 5,
   "metadata": {},
   "outputs": [
    {
     "name": "stdout",
     "output_type": "stream",
     "text": [
      "Asteroide acercandose\n"
     ]
    }
   ],
   "source": [
    "v=49 #velocidad asteroide\n",
    "b= 25 #velocidad limite\n",
    "\n",
    "if v>b:\n",
    "    print('¡Advertencia! Asteroide acercándose a muy alta velocidad!!!!')\n",
    "else: \n",
    "    print('Velocidad normal')  \n"
   ]
  },
  {
   "cell_type": "code",
   "execution_count": 13,
   "metadata": {},
   "outputs": [
    {
     "name": "stdout",
     "output_type": "stream",
     "text": [
      "Todo normal, sin asteroides cayendo.\n"
     ]
    }
   ],
   "source": [
    "v=19  #velocidad asteroide\n",
    "b= 20   #velocidad limite\n",
    "\n",
    "if v>b:\n",
    "    print('¡Vean el cielo! Ese rayo de luz en un asteroide.') \n",
    "elif v==20:\n",
    "    print('¡Vean el cielo! Ese rayo de luz en un asteroide.')      \n",
    "else: \n",
    "    print('Todo normal, sin asteroides cayendo.')"
   ]
  },
  {
   "cell_type": "code",
   "execution_count": 49,
   "metadata": {},
   "outputs": [
    {
     "name": "stdout",
     "output_type": "stream",
     "text": [
      "¡Advertencia! Hay un asteroide peligroso\n"
     ]
    }
   ],
   "source": [
    "v=19   #velocidad asteroide\n",
    "t=26   #tamano asteoirde\n",
    "b=20   #velocidad para ver rayo de luz\n",
    "\n",
    "if v>25 or t>25:\n",
    "    print('¡Advertencia! Hay un asteroide peligroso') \n",
    "elif v>=20:\n",
    "    print('¡Vean el cielo! Ese rayo de luz es un asteroide.')     \n",
    "elif t<25:\n",
    "    print('Todo normal, sin asteroides cayendo.')        \n",
    "else: \n",
    "    print('Todo normal, sin asteroides cayendo.')\n",
    "\n"
   ]
  }
 ],
 "metadata": {
  "interpreter": {
   "hash": "5a20c200b8e26a15f1a42cd9aa62785e4f26d506ca7c80a8de37aebc453c3a34"
  },
  "kernelspec": {
   "display_name": "Python 3.10.2 64-bit",
   "language": "python",
   "name": "python3"
  },
  "language_info": {
   "codemirror_mode": {
    "name": "ipython",
    "version": 3
   },
   "file_extension": ".py",
   "mimetype": "text/x-python",
   "name": "python",
   "nbconvert_exporter": "python",
   "pygments_lexer": "ipython3",
   "version": "3.10.2"
  },
  "orig_nbformat": 4
 },
 "nbformat": 4,
 "nbformat_minor": 2
}
